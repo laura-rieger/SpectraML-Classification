{
 "cells": [
  {
   "cell_type": "code",
   "execution_count": 1,
   "id": "c441c13f-1166-4d4e-a72d-4b227237a451",
   "metadata": {},
   "outputs": [
    {
     "data": {
      "text/html": [
       "\n",
       "    <div class=\"bk-root\">\n",
       "        <a href=\"https://bokeh.org\" target=\"_blank\" class=\"bk-logo bk-logo-small bk-logo-notebook\"></a>\n",
       "        <span id=\"1002\">Loading BokehJS ...</span>\n",
       "    </div>"
      ]
     },
     "metadata": {},
     "output_type": "display_data"
    },
    {
     "data": {
      "application/javascript": "\n(function(root) {\n  function now() {\n    return new Date();\n  }\n\n  const force = true;\n\n  if (typeof root._bokeh_onload_callbacks === \"undefined\" || force === true) {\n    root._bokeh_onload_callbacks = [];\n    root._bokeh_is_loading = undefined;\n  }\n\n  const JS_MIME_TYPE = 'application/javascript';\n  const HTML_MIME_TYPE = 'text/html';\n  const EXEC_MIME_TYPE = 'application/vnd.bokehjs_exec.v0+json';\n  const CLASS_NAME = 'output_bokeh rendered_html';\n\n  /**\n   * Render data to the DOM node\n   */\n  function render(props, node) {\n    const script = document.createElement(\"script\");\n    node.appendChild(script);\n  }\n\n  /**\n   * Handle when an output is cleared or removed\n   */\n  function handleClearOutput(event, handle) {\n    const cell = handle.cell;\n\n    const id = cell.output_area._bokeh_element_id;\n    const server_id = cell.output_area._bokeh_server_id;\n    // Clean up Bokeh references\n    if (id != null && id in Bokeh.index) {\n      Bokeh.index[id].model.document.clear();\n      delete Bokeh.index[id];\n    }\n\n    if (server_id !== undefined) {\n      // Clean up Bokeh references\n      const cmd_clean = \"from bokeh.io.state import curstate; print(curstate().uuid_to_server['\" + server_id + \"'].get_sessions()[0].document.roots[0]._id)\";\n      cell.notebook.kernel.execute(cmd_clean, {\n        iopub: {\n          output: function(msg) {\n            const id = msg.content.text.trim();\n            if (id in Bokeh.index) {\n              Bokeh.index[id].model.document.clear();\n              delete Bokeh.index[id];\n            }\n          }\n        }\n      });\n      // Destroy server and session\n      const cmd_destroy = \"import bokeh.io.notebook as ion; ion.destroy_server('\" + server_id + \"')\";\n      cell.notebook.kernel.execute(cmd_destroy);\n    }\n  }\n\n  /**\n   * Handle when a new output is added\n   */\n  function handleAddOutput(event, handle) {\n    const output_area = handle.output_area;\n    const output = handle.output;\n\n    // limit handleAddOutput to display_data with EXEC_MIME_TYPE content only\n    if ((output.output_type != \"display_data\") || (!Object.prototype.hasOwnProperty.call(output.data, EXEC_MIME_TYPE))) {\n      return\n    }\n\n    const toinsert = output_area.element.find(\".\" + CLASS_NAME.split(' ')[0]);\n\n    if (output.metadata[EXEC_MIME_TYPE][\"id\"] !== undefined) {\n      toinsert[toinsert.length - 1].firstChild.textContent = output.data[JS_MIME_TYPE];\n      // store reference to embed id on output_area\n      output_area._bokeh_element_id = output.metadata[EXEC_MIME_TYPE][\"id\"];\n    }\n    if (output.metadata[EXEC_MIME_TYPE][\"server_id\"] !== undefined) {\n      const bk_div = document.createElement(\"div\");\n      bk_div.innerHTML = output.data[HTML_MIME_TYPE];\n      const script_attrs = bk_div.children[0].attributes;\n      for (let i = 0; i < script_attrs.length; i++) {\n        toinsert[toinsert.length - 1].firstChild.setAttribute(script_attrs[i].name, script_attrs[i].value);\n        toinsert[toinsert.length - 1].firstChild.textContent = bk_div.children[0].textContent\n      }\n      // store reference to server id on output_area\n      output_area._bokeh_server_id = output.metadata[EXEC_MIME_TYPE][\"server_id\"];\n    }\n  }\n\n  function register_renderer(events, OutputArea) {\n\n    function append_mime(data, metadata, element) {\n      // create a DOM node to render to\n      const toinsert = this.create_output_subarea(\n        metadata,\n        CLASS_NAME,\n        EXEC_MIME_TYPE\n      );\n      this.keyboard_manager.register_events(toinsert);\n      // Render to node\n      const props = {data: data, metadata: metadata[EXEC_MIME_TYPE]};\n      render(props, toinsert[toinsert.length - 1]);\n      element.append(toinsert);\n      return toinsert\n    }\n\n    /* Handle when an output is cleared or removed */\n    events.on('clear_output.CodeCell', handleClearOutput);\n    events.on('delete.Cell', handleClearOutput);\n\n    /* Handle when a new output is added */\n    events.on('output_added.OutputArea', handleAddOutput);\n\n    /**\n     * Register the mime type and append_mime function with output_area\n     */\n    OutputArea.prototype.register_mime_type(EXEC_MIME_TYPE, append_mime, {\n      /* Is output safe? */\n      safe: true,\n      /* Index of renderer in `output_area.display_order` */\n      index: 0\n    });\n  }\n\n  // register the mime type if in Jupyter Notebook environment and previously unregistered\n  if (root.Jupyter !== undefined) {\n    const events = require('base/js/events');\n    const OutputArea = require('notebook/js/outputarea').OutputArea;\n\n    if (OutputArea.prototype.mime_types().indexOf(EXEC_MIME_TYPE) == -1) {\n      register_renderer(events, OutputArea);\n    }\n  }\n\n  \n  if (typeof (root._bokeh_timeout) === \"undefined\" || force === true) {\n    root._bokeh_timeout = Date.now() + 5000;\n    root._bokeh_failed_load = false;\n  }\n\n  const NB_LOAD_WARNING = {'data': {'text/html':\n     \"<div style='background-color: #fdd'>\\n\"+\n     \"<p>\\n\"+\n     \"BokehJS does not appear to have successfully loaded. If loading BokehJS from CDN, this \\n\"+\n     \"may be due to a slow or bad network connection. Possible fixes:\\n\"+\n     \"</p>\\n\"+\n     \"<ul>\\n\"+\n     \"<li>re-rerun `output_notebook()` to attempt to load from CDN again, or</li>\\n\"+\n     \"<li>use INLINE resources instead, as so:</li>\\n\"+\n     \"</ul>\\n\"+\n     \"<code>\\n\"+\n     \"from bokeh.resources import INLINE\\n\"+\n     \"output_notebook(resources=INLINE)\\n\"+\n     \"</code>\\n\"+\n     \"</div>\"}};\n\n  function display_loaded() {\n    const el = document.getElementById(\"1002\");\n    if (el != null) {\n      el.textContent = \"BokehJS is loading...\";\n    }\n    if (root.Bokeh !== undefined) {\n      if (el != null) {\n        el.textContent = \"BokehJS \" + root.Bokeh.version + \" successfully loaded.\";\n      }\n    } else if (Date.now() < root._bokeh_timeout) {\n      setTimeout(display_loaded, 100)\n    }\n  }\n\n\n  function run_callbacks() {\n    try {\n      root._bokeh_onload_callbacks.forEach(function(callback) {\n        if (callback != null)\n          callback();\n      });\n    } finally {\n      delete root._bokeh_onload_callbacks\n    }\n    console.debug(\"Bokeh: all callbacks have finished\");\n  }\n\n  function load_libs(css_urls, js_urls, callback) {\n    if (css_urls == null) css_urls = [];\n    if (js_urls == null) js_urls = [];\n\n    root._bokeh_onload_callbacks.push(callback);\n    if (root._bokeh_is_loading > 0) {\n      console.debug(\"Bokeh: BokehJS is being loaded, scheduling callback at\", now());\n      return null;\n    }\n    if (js_urls == null || js_urls.length === 0) {\n      run_callbacks();\n      return null;\n    }\n    console.debug(\"Bokeh: BokehJS not loaded, scheduling load and callback at\", now());\n    root._bokeh_is_loading = css_urls.length + js_urls.length;\n\n    function on_load() {\n      root._bokeh_is_loading--;\n      if (root._bokeh_is_loading === 0) {\n        console.debug(\"Bokeh: all BokehJS libraries/stylesheets loaded\");\n        run_callbacks()\n      }\n    }\n\n    function on_error(url) {\n      console.error(\"failed to load \" + url);\n    }\n\n    for (let i = 0; i < css_urls.length; i++) {\n      const url = css_urls[i];\n      const element = document.createElement(\"link\");\n      element.onload = on_load;\n      element.onerror = on_error.bind(null, url);\n      element.rel = \"stylesheet\";\n      element.type = \"text/css\";\n      element.href = url;\n      console.debug(\"Bokeh: injecting link tag for BokehJS stylesheet: \", url);\n      document.body.appendChild(element);\n    }\n\n    for (let i = 0; i < js_urls.length; i++) {\n      const url = js_urls[i];\n      const element = document.createElement('script');\n      element.onload = on_load;\n      element.onerror = on_error.bind(null, url);\n      element.async = false;\n      element.src = url;\n      console.debug(\"Bokeh: injecting script tag for BokehJS library: \", url);\n      document.head.appendChild(element);\n    }\n  };\n\n  function inject_raw_css(css) {\n    const element = document.createElement(\"style\");\n    element.appendChild(document.createTextNode(css));\n    document.body.appendChild(element);\n  }\n\n  \n  const js_urls = [\"https://cdn.bokeh.org/bokeh/release/bokeh-2.4.1.min.js\", \"https://cdn.bokeh.org/bokeh/release/bokeh-gl-2.4.1.min.js\", \"https://cdn.bokeh.org/bokeh/release/bokeh-widgets-2.4.1.min.js\", \"https://cdn.bokeh.org/bokeh/release/bokeh-tables-2.4.1.min.js\", \"https://cdn.bokeh.org/bokeh/release/bokeh-mathjax-2.4.1.min.js\"];\n  const css_urls = [];\n  \n\n  const inline_js = [\n    function(Bokeh) {\n      Bokeh.set_log_level(\"info\");\n    },\n    function(Bokeh) {\n    \n    \n    }\n  ];\n\n  function run_inline_js() {\n    \n    if (root.Bokeh !== undefined || force === true) {\n      \n    for (let i = 0; i < inline_js.length; i++) {\n      inline_js[i].call(root, root.Bokeh);\n    }\n    if (force === true) {\n        display_loaded();\n      }} else if (Date.now() < root._bokeh_timeout) {\n      setTimeout(run_inline_js, 100);\n    } else if (!root._bokeh_failed_load) {\n      console.log(\"Bokeh: BokehJS failed to load within specified timeout.\");\n      root._bokeh_failed_load = true;\n    } else if (force !== true) {\n      const cell = $(document.getElementById(\"1002\")).parents('.cell').data().cell;\n      cell.output_area.append_execute_result(NB_LOAD_WARNING)\n    }\n\n  }\n\n  if (root._bokeh_is_loading === 0) {\n    console.debug(\"Bokeh: BokehJS loaded, going straight to plotting\");\n    run_inline_js();\n  } else {\n    load_libs(css_urls, js_urls, function() {\n      console.debug(\"Bokeh: BokehJS plotting callback run at\", now());\n      run_inline_js();\n    });\n  }\n}(window));",
      "application/vnd.bokehjs_load.v0+json": ""
     },
     "metadata": {},
     "output_type": "display_data"
    }
   ],
   "source": [
    "import numpy as np\n",
    "import pandas as pd\n",
    "import matplotlib.pyplot as plt\n",
    "from bokeh.plotting import figure, show\n",
    "from bokeh.io import output_notebook\n",
    "import pickle\n",
    "output_notebook()"
   ]
  },
  {
   "cell_type": "code",
   "execution_count": 2,
   "id": "8f7ac484-a3e7-4c3c-8847-84096f069035",
   "metadata": {},
   "outputs": [],
   "source": [
    "PATH_IR_INDEX = r'C:\\Users\\eibfl\\Nextcloud\\documents\\WP11_ML\\Spectra\\functional_group_classification\\nist\\ir_spectra_index.pkl'\n",
    "PATH_IR_DATA = r'C:\\Users\\eibfl\\Nextcloud\\documents\\WP11_ML\\Spectra\\functional_group_classification\\nist\\ir_spectra_data.pkl'"
   ]
  },
  {
   "cell_type": "code",
   "execution_count": 3,
   "id": "b423dd73-1636-4e86-8d9f-4782d9f28791",
   "metadata": {},
   "outputs": [],
   "source": [
    "with open(PATH_IR_DATA, 'rb') as pickle_file:\n",
    "    irdata = pickle.load(pickle_file)\n",
    "    \n",
    "with open(PATH_IR_INDEX, 'rb') as pickle_file:\n",
    "    irindex = pickle.load(pickle_file)"
   ]
  },
  {
   "cell_type": "code",
   "execution_count": 14,
   "metadata": {},
   "outputs": [
    {
     "data": {
      "text/html": [
       "<div>\n",
       "<style scoped>\n",
       "    .dataframe tbody tr th:only-of-type {\n",
       "        vertical-align: middle;\n",
       "    }\n",
       "\n",
       "    .dataframe tbody tr th {\n",
       "        vertical-align: top;\n",
       "    }\n",
       "\n",
       "    .dataframe thead th {\n",
       "        text-align: right;\n",
       "    }\n",
       "</style>\n",
       "<table border=\"1\" class=\"dataframe\">\n",
       "  <thead>\n",
       "    <tr style=\"text-align: right;\">\n",
       "      <th></th>\n",
       "      <th>formula</th>\n",
       "      <th>inchi</th>\n",
       "      <th>state</th>\n",
       "      <th>xunits</th>\n",
       "      <th>yunits</th>\n",
       "      <th>firstx</th>\n",
       "      <th>npoints</th>\n",
       "      <th>lastx</th>\n",
       "      <th>alkane</th>\n",
       "      <th>methyl</th>\n",
       "      <th>...</th>\n",
       "      <th>aromatics</th>\n",
       "      <th>alkyl halides</th>\n",
       "      <th>esters</th>\n",
       "      <th>ketones</th>\n",
       "      <th>aldehydes</th>\n",
       "      <th>carboxylic acids</th>\n",
       "      <th>ether</th>\n",
       "      <th>acyl halides</th>\n",
       "      <th>amides</th>\n",
       "      <th>nitro</th>\n",
       "    </tr>\n",
       "    <tr>\n",
       "      <th>cas</th>\n",
       "      <th></th>\n",
       "      <th></th>\n",
       "      <th></th>\n",
       "      <th></th>\n",
       "      <th></th>\n",
       "      <th></th>\n",
       "      <th></th>\n",
       "      <th></th>\n",
       "      <th></th>\n",
       "      <th></th>\n",
       "      <th></th>\n",
       "      <th></th>\n",
       "      <th></th>\n",
       "      <th></th>\n",
       "      <th></th>\n",
       "      <th></th>\n",
       "      <th></th>\n",
       "      <th></th>\n",
       "      <th></th>\n",
       "      <th></th>\n",
       "      <th></th>\n",
       "    </tr>\n",
       "  </thead>\n",
       "  <tbody>\n",
       "    <tr>\n",
       "      <th>100005</th>\n",
       "      <td>C6H4ClNO2</td>\n",
       "      <td>1S/C6H4ClNO2/c7-5-1-3-6(4-2-5)8(9)10/h1-4H</td>\n",
       "      <td>gas</td>\n",
       "      <td>1/CM</td>\n",
       "      <td>ABSORBANCE</td>\n",
       "      <td>450.0</td>\n",
       "      <td>880</td>\n",
       "      <td>3966.0</td>\n",
       "      <td>0</td>\n",
       "      <td>0</td>\n",
       "      <td>...</td>\n",
       "      <td>1</td>\n",
       "      <td>1</td>\n",
       "      <td>0</td>\n",
       "      <td>0</td>\n",
       "      <td>0</td>\n",
       "      <td>0</td>\n",
       "      <td>0</td>\n",
       "      <td>0</td>\n",
       "      <td>0</td>\n",
       "      <td>1</td>\n",
       "    </tr>\n",
       "    <tr>\n",
       "      <th>100016</th>\n",
       "      <td>C6H6N2O2</td>\n",
       "      <td>1S/C6H6N2O2/c7-5-1-3-6(4-2-5)8(9)10/h1-4H,7H2</td>\n",
       "      <td>gas</td>\n",
       "      <td>1/CM</td>\n",
       "      <td>ABSORBANCE</td>\n",
       "      <td>551.7</td>\n",
       "      <td>895</td>\n",
       "      <td>4000.7</td>\n",
       "      <td>0</td>\n",
       "      <td>0</td>\n",
       "      <td>...</td>\n",
       "      <td>1</td>\n",
       "      <td>0</td>\n",
       "      <td>0</td>\n",
       "      <td>0</td>\n",
       "      <td>0</td>\n",
       "      <td>0</td>\n",
       "      <td>0</td>\n",
       "      <td>0</td>\n",
       "      <td>0</td>\n",
       "      <td>1</td>\n",
       "    </tr>\n",
       "    <tr>\n",
       "      <th>100027</th>\n",
       "      <td>C6H5NO3</td>\n",
       "      <td>1S/C6H5NO3/c8-6-3-1-5(2-4-6)7(9)10/h1-4,8H</td>\n",
       "      <td>gas</td>\n",
       "      <td>1/CM</td>\n",
       "      <td>ABSORBANCE</td>\n",
       "      <td>550.0</td>\n",
       "      <td>825</td>\n",
       "      <td>3846.0</td>\n",
       "      <td>0</td>\n",
       "      <td>0</td>\n",
       "      <td>...</td>\n",
       "      <td>1</td>\n",
       "      <td>0</td>\n",
       "      <td>0</td>\n",
       "      <td>0</td>\n",
       "      <td>0</td>\n",
       "      <td>0</td>\n",
       "      <td>0</td>\n",
       "      <td>0</td>\n",
       "      <td>0</td>\n",
       "      <td>1</td>\n",
       "    </tr>\n",
       "    <tr>\n",
       "      <th>1000493</th>\n",
       "      <td>C7H18Si</td>\n",
       "      <td>1S/C7H18Si/c1-5-6-7-8(2,3)4/h5-7H2,1-4H3</td>\n",
       "      <td>SOLUTION (5% IN CCl4 FOR 3800-1310, 2% IN CS2 ...</td>\n",
       "      <td>1/CM</td>\n",
       "      <td>TRANSMITTANCE</td>\n",
       "      <td>203.607</td>\n",
       "      <td>3868</td>\n",
       "      <td>3802.91</td>\n",
       "      <td>1</td>\n",
       "      <td>1</td>\n",
       "      <td>...</td>\n",
       "      <td>0</td>\n",
       "      <td>0</td>\n",
       "      <td>0</td>\n",
       "      <td>0</td>\n",
       "      <td>0</td>\n",
       "      <td>0</td>\n",
       "      <td>0</td>\n",
       "      <td>0</td>\n",
       "      <td>0</td>\n",
       "      <td>0</td>\n",
       "    </tr>\n",
       "    <tr>\n",
       "      <th>1000506</th>\n",
       "      <td>C6H15ClSi</td>\n",
       "      <td>1S/C6H15ClSi/c1-4-5-6-8(2,3)7/h4-6H2,1-3H3</td>\n",
       "      <td>LIQUID</td>\n",
       "      <td>MICROMETERS</td>\n",
       "      <td>TRANSMITTANCE</td>\n",
       "      <td>2.066</td>\n",
       "      <td>2100</td>\n",
       "      <td>15.9937</td>\n",
       "      <td>1</td>\n",
       "      <td>1</td>\n",
       "      <td>...</td>\n",
       "      <td>0</td>\n",
       "      <td>0</td>\n",
       "      <td>0</td>\n",
       "      <td>0</td>\n",
       "      <td>0</td>\n",
       "      <td>0</td>\n",
       "      <td>0</td>\n",
       "      <td>0</td>\n",
       "      <td>0</td>\n",
       "      <td>0</td>\n",
       "    </tr>\n",
       "    <tr>\n",
       "      <th>...</th>\n",
       "      <td>...</td>\n",
       "      <td>...</td>\n",
       "      <td>...</td>\n",
       "      <td>...</td>\n",
       "      <td>...</td>\n",
       "      <td>...</td>\n",
       "      <td>...</td>\n",
       "      <td>...</td>\n",
       "      <td>...</td>\n",
       "      <td>...</td>\n",
       "      <td>...</td>\n",
       "      <td>...</td>\n",
       "      <td>...</td>\n",
       "      <td>...</td>\n",
       "      <td>...</td>\n",
       "      <td>...</td>\n",
       "      <td>...</td>\n",
       "      <td>...</td>\n",
       "      <td>...</td>\n",
       "      <td>...</td>\n",
       "      <td>...</td>\n",
       "    </tr>\n",
       "    <tr>\n",
       "      <th>99980286</th>\n",
       "      <td>C6H9N3O4S</td>\n",
       "      <td>1S/C6H9N3O4S/c1-2-3-14(12,13)6-5(9(10)11)7-4-8...</td>\n",
       "      <td>SOLID (1 mg / 650 mg KBr DISC)</td>\n",
       "      <td>1/CM</td>\n",
       "      <td>TRANSMITTANCE</td>\n",
       "      <td>601.566</td>\n",
       "      <td>3403</td>\n",
       "      <td>4018</td>\n",
       "      <td>1</td>\n",
       "      <td>1</td>\n",
       "      <td>...</td>\n",
       "      <td>1</td>\n",
       "      <td>0</td>\n",
       "      <td>0</td>\n",
       "      <td>0</td>\n",
       "      <td>0</td>\n",
       "      <td>0</td>\n",
       "      <td>0</td>\n",
       "      <td>0</td>\n",
       "      <td>0</td>\n",
       "      <td>1</td>\n",
       "    </tr>\n",
       "    <tr>\n",
       "      <th>999815</th>\n",
       "      <td>C5H13ClN.Cl</td>\n",
       "      <td>1S/C5H13Cl2N/c1-8(2,3,7)5-4-6/h4-5H2,1-3H3</td>\n",
       "      <td>SOLID (SPLIT MULL), FLUOROLUBE FOR 3800-1330 C...</td>\n",
       "      <td>1/CM</td>\n",
       "      <td>TRANSMITTANCE</td>\n",
       "      <td>459</td>\n",
       "      <td>3334</td>\n",
       "      <td>3792</td>\n",
       "      <td>NaN</td>\n",
       "      <td>NaN</td>\n",
       "      <td>...</td>\n",
       "      <td>NaN</td>\n",
       "      <td>NaN</td>\n",
       "      <td>NaN</td>\n",
       "      <td>NaN</td>\n",
       "      <td>NaN</td>\n",
       "      <td>NaN</td>\n",
       "      <td>NaN</td>\n",
       "      <td>NaN</td>\n",
       "      <td>NaN</td>\n",
       "      <td>NaN</td>\n",
       "    </tr>\n",
       "    <tr>\n",
       "      <th>99983489</th>\n",
       "      <td>C11H10Br2Cl2O3</td>\n",
       "      <td>1S/C11H10Br2Cl2O3/c1-11(14,15)10(16)18-5-4-17-...</td>\n",
       "      <td>SOLUTION (10% CCl4 FOR 5000-1330, 10% CS2 FOR ...</td>\n",
       "      <td>MICROMETERS</td>\n",
       "      <td>TRANSMITTANCE</td>\n",
       "      <td>2.021</td>\n",
       "      <td>2017</td>\n",
       "      <td>15.8351</td>\n",
       "      <td>1</td>\n",
       "      <td>1</td>\n",
       "      <td>...</td>\n",
       "      <td>1</td>\n",
       "      <td>1</td>\n",
       "      <td>1</td>\n",
       "      <td>0</td>\n",
       "      <td>0</td>\n",
       "      <td>0</td>\n",
       "      <td>1</td>\n",
       "      <td>0</td>\n",
       "      <td>0</td>\n",
       "      <td>0</td>\n",
       "    </tr>\n",
       "    <tr>\n",
       "      <th>99990</th>\n",
       "      <td>C7H7NO2</td>\n",
       "      <td>1S/C7H7NO2/c1-6-2-4-7(5-3-6)8(9)10/h2-5H,1H3</td>\n",
       "      <td>gas</td>\n",
       "      <td>1/CM</td>\n",
       "      <td>ABSORBANCE</td>\n",
       "      <td>450.0</td>\n",
       "      <td>880</td>\n",
       "      <td>3966.0</td>\n",
       "      <td>0</td>\n",
       "      <td>1</td>\n",
       "      <td>...</td>\n",
       "      <td>1</td>\n",
       "      <td>0</td>\n",
       "      <td>0</td>\n",
       "      <td>0</td>\n",
       "      <td>0</td>\n",
       "      <td>0</td>\n",
       "      <td>0</td>\n",
       "      <td>0</td>\n",
       "      <td>0</td>\n",
       "      <td>1</td>\n",
       "    </tr>\n",
       "    <tr>\n",
       "      <th>999973</th>\n",
       "      <td>C6H19NSi2</td>\n",
       "      <td>1S/C6H19NSi2/c1-8(2,3)7-9(4,5)6/h7H,1-6H3</td>\n",
       "      <td>SOLUTION (10% IN CCl4 FOR 3800-1300, 10% IN CS...</td>\n",
       "      <td>1/CM</td>\n",
       "      <td>TRANSMITTANCE</td>\n",
       "      <td>247.213</td>\n",
       "      <td>3601</td>\n",
       "      <td>3788.2</td>\n",
       "      <td>0</td>\n",
       "      <td>1</td>\n",
       "      <td>...</td>\n",
       "      <td>0</td>\n",
       "      <td>0</td>\n",
       "      <td>0</td>\n",
       "      <td>0</td>\n",
       "      <td>0</td>\n",
       "      <td>0</td>\n",
       "      <td>0</td>\n",
       "      <td>0</td>\n",
       "      <td>0</td>\n",
       "      <td>0</td>\n",
       "    </tr>\n",
       "  </tbody>\n",
       "</table>\n",
       "<p>14833 rows × 25 columns</p>\n",
       "</div>"
      ],
      "text/plain": [
       "                 formula                                              inchi  \\\n",
       "cas                                                                           \n",
       "100005         C6H4ClNO2         1S/C6H4ClNO2/c7-5-1-3-6(4-2-5)8(9)10/h1-4H   \n",
       "100016          C6H6N2O2      1S/C6H6N2O2/c7-5-1-3-6(4-2-5)8(9)10/h1-4H,7H2   \n",
       "100027           C6H5NO3         1S/C6H5NO3/c8-6-3-1-5(2-4-6)7(9)10/h1-4,8H   \n",
       "1000493          C7H18Si           1S/C7H18Si/c1-5-6-7-8(2,3)4/h5-7H2,1-4H3   \n",
       "1000506        C6H15ClSi         1S/C6H15ClSi/c1-4-5-6-8(2,3)7/h4-6H2,1-3H3   \n",
       "...                  ...                                                ...   \n",
       "99980286       C6H9N3O4S  1S/C6H9N3O4S/c1-2-3-14(12,13)6-5(9(10)11)7-4-8...   \n",
       "999815       C5H13ClN.Cl         1S/C5H13Cl2N/c1-8(2,3,7)5-4-6/h4-5H2,1-3H3   \n",
       "99983489  C11H10Br2Cl2O3  1S/C11H10Br2Cl2O3/c1-11(14,15)10(16)18-5-4-17-...   \n",
       "99990            C7H7NO2       1S/C7H7NO2/c1-6-2-4-7(5-3-6)8(9)10/h2-5H,1H3   \n",
       "999973         C6H19NSi2          1S/C6H19NSi2/c1-8(2,3)7-9(4,5)6/h7H,1-6H3   \n",
       "\n",
       "                                                      state       xunits  \\\n",
       "cas                                                                        \n",
       "100005                                                  gas         1/CM   \n",
       "100016                                                  gas         1/CM   \n",
       "100027                                                  gas         1/CM   \n",
       "1000493   SOLUTION (5% IN CCl4 FOR 3800-1310, 2% IN CS2 ...         1/CM   \n",
       "1000506                                              LIQUID  MICROMETERS   \n",
       "...                                                     ...          ...   \n",
       "99980286                     SOLID (1 mg / 650 mg KBr DISC)         1/CM   \n",
       "999815    SOLID (SPLIT MULL), FLUOROLUBE FOR 3800-1330 C...         1/CM   \n",
       "99983489  SOLUTION (10% CCl4 FOR 5000-1330, 10% CS2 FOR ...  MICROMETERS   \n",
       "99990                                                   gas         1/CM   \n",
       "999973    SOLUTION (10% IN CCl4 FOR 3800-1300, 10% IN CS...         1/CM   \n",
       "\n",
       "                 yunits   firstx npoints    lastx alkane methyl  ...  \\\n",
       "cas                                                              ...   \n",
       "100005       ABSORBANCE    450.0     880   3966.0      0      0  ...   \n",
       "100016       ABSORBANCE    551.7     895   4000.7      0      0  ...   \n",
       "100027       ABSORBANCE    550.0     825   3846.0      0      0  ...   \n",
       "1000493   TRANSMITTANCE  203.607    3868  3802.91      1      1  ...   \n",
       "1000506   TRANSMITTANCE    2.066    2100  15.9937      1      1  ...   \n",
       "...                 ...      ...     ...      ...    ...    ...  ...   \n",
       "99980286  TRANSMITTANCE  601.566    3403     4018      1      1  ...   \n",
       "999815    TRANSMITTANCE      459    3334     3792    NaN    NaN  ...   \n",
       "99983489  TRANSMITTANCE    2.021    2017  15.8351      1      1  ...   \n",
       "99990        ABSORBANCE    450.0     880   3966.0      0      1  ...   \n",
       "999973    TRANSMITTANCE  247.213    3601   3788.2      0      1  ...   \n",
       "\n",
       "         aromatics alkyl halides esters ketones aldehydes carboxylic acids  \\\n",
       "cas                                                                          \n",
       "100005           1             1      0       0         0                0   \n",
       "100016           1             0      0       0         0                0   \n",
       "100027           1             0      0       0         0                0   \n",
       "1000493          0             0      0       0         0                0   \n",
       "1000506          0             0      0       0         0                0   \n",
       "...            ...           ...    ...     ...       ...              ...   \n",
       "99980286         1             0      0       0         0                0   \n",
       "999815         NaN           NaN    NaN     NaN       NaN              NaN   \n",
       "99983489         1             1      1       0         0                0   \n",
       "99990            1             0      0       0         0                0   \n",
       "999973           0             0      0       0         0                0   \n",
       "\n",
       "         ether acyl halides amides nitro  \n",
       "cas                                       \n",
       "100005       0            0      0     1  \n",
       "100016       0            0      0     1  \n",
       "100027       0            0      0     1  \n",
       "1000493      0            0      0     0  \n",
       "1000506      0            0      0     0  \n",
       "...        ...          ...    ...   ...  \n",
       "99980286     0            0      0     1  \n",
       "999815     NaN          NaN    NaN   NaN  \n",
       "99983489     1            0      0     0  \n",
       "99990        0            0      0     1  \n",
       "999973       0            0      0     0  \n",
       "\n",
       "[14833 rows x 25 columns]"
      ]
     },
     "execution_count": 14,
     "metadata": {},
     "output_type": "execute_result"
    }
   ],
   "source": [
    "irindex"
   ]
  },
  {
   "cell_type": "code",
   "execution_count": 26,
   "metadata": {},
   "outputs": [
    {
     "data": {
      "text/plain": [
       "(8730, 25)"
      ]
     },
     "execution_count": 26,
     "metadata": {},
     "output_type": "execute_result"
    }
   ],
   "source": [
    "# irindex[(irindex['state']=='gas') & (irindex['xunits']=='1/CM') & (irindex['yunits']=='ABSORBANCE')].shape\n",
    "irindex[(irindex['state'].str.startswith('gas', na = False))].shape"
   ]
  },
  {
   "cell_type": "code",
   "execution_count": 4,
   "id": "65174ecd-3c40-4b7a-afc8-874274482c49",
   "metadata": {},
   "outputs": [],
   "source": [
    "import utils"
   ]
  },
  {
   "cell_type": "code",
   "execution_count": 11,
   "id": "ce1c0c90-b32f-4535-b43c-e44f79d8d5ef",
   "metadata": {},
   "outputs": [
    {
     "name": "stderr",
     "output_type": "stream",
     "text": [
      "C:\\Users\\eibfl\\Miniconda3\\envs\\jcamp\\lib\\site-packages\\pandas\\util\\_decorators.py:311: SettingWithCopyWarning: \n",
      "A value is trying to be set on a copy of a slice from a DataFrame\n",
      "\n",
      "See the caveats in the documentation: https://pandas.pydata.org/pandas-docs/stable/user_guide/indexing.html#returning-a-view-versus-a-copy\n",
      "  return func(*args, **kwargs)\n"
     ]
    }
   ],
   "source": [
    "irdata_array, target_array = utils.fixed_domain_filter(irdata, \n",
    "                                                    irindex, \n",
    "                                                    filters = [('state', 'gas')],  \n",
    "                                                    delta=4, \n",
    "                                                    min_wav=400, \n",
    "                                                    max_wav=4000)"
   ]
  },
  {
   "cell_type": "code",
   "execution_count": 12,
   "id": "0216bb57-afa4-4c83-95d7-b11c4eae3cfd",
   "metadata": {},
   "outputs": [
    {
     "data": {
      "text/plain": [
       "(8125, 900)"
      ]
     },
     "execution_count": 12,
     "metadata": {},
     "output_type": "execute_result"
    }
   ],
   "source": [
    "irdata_array.shape"
   ]
  },
  {
   "cell_type": "code",
   "execution_count": 13,
   "id": "ab845df0-2588-40d5-bc95-2abe85313bd2",
   "metadata": {},
   "outputs": [
    {
     "data": {
      "text/plain": [
       "(8125, 17)"
      ]
     },
     "execution_count": 13,
     "metadata": {},
     "output_type": "execute_result"
    }
   ],
   "source": [
    "target_array.shape"
   ]
  },
  {
   "cell_type": "code",
   "execution_count": 9,
   "id": "d765aec0-e94f-47d4-b71e-dd9a0320f929",
   "metadata": {},
   "outputs": [
    {
     "data": {
      "text/html": [
       "\n",
       "\n",
       "\n",
       "\n",
       "\n",
       "\n",
       "  <div class=\"bk-root\" id=\"3aa6fdb8-8a41-43df-9bb7-9b43233ef584\" data-root-id=\"1102\"></div>\n"
      ]
     },
     "metadata": {},
     "output_type": "display_data"
    },
    {
     "data": {
      "application/javascript": "(function(root) {\n  function embed_document(root) {\n    \n  const docs_json = {\"1a8fdc4b-4e6f-4bd3-8408-2aef97fc8436\":{\"defs\":[],\"roots\":{\"references\":[{\"attributes\":{\"below\":[{\"id\":\"1113\"}],\"center\":[{\"id\":\"1116\"},{\"id\":\"1120\"}],\"left\":[{\"id\":\"1117\"}],\"renderers\":[{\"id\":\"1139\"}],\"title\":{\"id\":\"1103\"},\"toolbar\":{\"id\":\"1128\"},\"x_range\":{\"id\":\"1105\"},\"x_scale\":{\"id\":\"1109\"},\"y_range\":{\"id\":\"1107\"},\"y_scale\":{\"id\":\"1111\"}},\"id\":\"1102\",\"subtype\":\"Figure\",\"type\":\"Plot\"},{\"attributes\":{\"overlay\":{\"id\":\"1127\"}},\"id\":\"1123\",\"type\":\"BoxZoomTool\"},{\"attributes\":{},\"id\":\"1126\",\"type\":\"HelpTool\"},{\"attributes\":{},\"id\":\"1114\",\"type\":\"BasicTicker\"},{\"attributes\":{\"line_color\":\"#1f77b4\",\"line_width\":2,\"x\":{\"field\":\"x\"},\"y\":{\"field\":\"y\"}},\"id\":\"1136\",\"type\":\"Line\"},{\"attributes\":{},\"id\":\"1122\",\"type\":\"WheelZoomTool\"},{\"attributes\":{\"line_alpha\":0.2,\"line_color\":\"#1f77b4\",\"line_width\":2,\"x\":{\"field\":\"x\"},\"y\":{\"field\":\"y\"}},\"id\":\"1138\",\"type\":\"Line\"},{\"attributes\":{\"axis\":{\"id\":\"1113\"},\"coordinates\":null,\"group\":null,\"ticker\":null},\"id\":\"1116\",\"type\":\"Grid\"},{\"attributes\":{\"source\":{\"id\":\"1135\"}},\"id\":\"1140\",\"type\":\"CDSView\"},{\"attributes\":{},\"id\":\"1118\",\"type\":\"BasicTicker\"},{\"attributes\":{\"axis_label\":\"y\",\"coordinates\":null,\"formatter\":{\"id\":\"1153\"},\"group\":null,\"major_label_policy\":{\"id\":\"1154\"},\"ticker\":{\"id\":\"1118\"}},\"id\":\"1117\",\"type\":\"LinearAxis\"},{\"attributes\":{},\"id\":\"1159\",\"type\":\"Selection\"},{\"attributes\":{\"axis\":{\"id\":\"1117\"},\"coordinates\":null,\"dimension\":1,\"group\":null,\"ticker\":null},\"id\":\"1120\",\"type\":\"Grid\"},{\"attributes\":{\"tools\":[{\"id\":\"1121\"},{\"id\":\"1122\"},{\"id\":\"1123\"},{\"id\":\"1124\"},{\"id\":\"1125\"},{\"id\":\"1126\"}]},\"id\":\"1128\",\"type\":\"Toolbar\"},{\"attributes\":{\"coordinates\":null,\"data_source\":{\"id\":\"1135\"},\"glyph\":{\"id\":\"1136\"},\"group\":null,\"hover_glyph\":null,\"muted_glyph\":{\"id\":\"1138\"},\"nonselection_glyph\":{\"id\":\"1137\"},\"view\":{\"id\":\"1140\"}},\"id\":\"1139\",\"type\":\"GlyphRenderer\"},{\"attributes\":{},\"id\":\"1157\",\"type\":\"AllLabels\"},{\"attributes\":{\"axis_label\":\"x\",\"coordinates\":null,\"formatter\":{\"id\":\"1156\"},\"group\":null,\"major_label_policy\":{\"id\":\"1157\"},\"ticker\":{\"id\":\"1114\"}},\"id\":\"1113\",\"type\":\"LinearAxis\"},{\"attributes\":{},\"id\":\"1153\",\"type\":\"BasicTickFormatter\"},{\"attributes\":{},\"id\":\"1109\",\"type\":\"LinearScale\"},{\"attributes\":{},\"id\":\"1158\",\"type\":\"UnionRenderers\"},{\"attributes\":{},\"id\":\"1105\",\"type\":\"DataRange1d\"},{\"attributes\":{\"coordinates\":null,\"group\":null,\"text\":\"IR spectra\"},\"id\":\"1103\",\"type\":\"Title\"},{\"attributes\":{\"data\":{\"x\":{\"__ndarray__\":\"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\",\"dtype\":\"int32\",\"order\":\"little\",\"shape\":[900]},\"y\":{\"__ndarray__\":\"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\",\"dtype\":\"float64\",\"order\":\"little\",\"shape\":[900]}},\"selected\":{\"id\":\"1159\"},\"selection_policy\":{\"id\":\"1158\"}},\"id\":\"1135\",\"type\":\"ColumnDataSource\"},{\"attributes\":{},\"id\":\"1154\",\"type\":\"AllLabels\"},{\"attributes\":{},\"id\":\"1107\",\"type\":\"DataRange1d\"},{\"attributes\":{},\"id\":\"1156\",\"type\":\"BasicTickFormatter\"},{\"attributes\":{\"line_alpha\":0.1,\"line_color\":\"#1f77b4\",\"line_width\":2,\"x\":{\"field\":\"x\"},\"y\":{\"field\":\"y\"}},\"id\":\"1137\",\"type\":\"Line\"},{\"attributes\":{},\"id\":\"1111\",\"type\":\"LinearScale\"},{\"attributes\":{},\"id\":\"1125\",\"type\":\"ResetTool\"},{\"attributes\":{},\"id\":\"1121\",\"type\":\"PanTool\"},{\"attributes\":{\"bottom_units\":\"screen\",\"coordinates\":null,\"fill_alpha\":0.5,\"fill_color\":\"lightgrey\",\"group\":null,\"left_units\":\"screen\",\"level\":\"overlay\",\"line_alpha\":1.0,\"line_color\":\"black\",\"line_dash\":[4,4],\"line_width\":2,\"right_units\":\"screen\",\"syncable\":false,\"top_units\":\"screen\"},\"id\":\"1127\",\"type\":\"BoxAnnotation\"},{\"attributes\":{},\"id\":\"1124\",\"type\":\"SaveTool\"}],\"root_ids\":[\"1102\"]},\"title\":\"Bokeh Application\",\"version\":\"2.4.1\"}};\n  const render_items = [{\"docid\":\"1a8fdc4b-4e6f-4bd3-8408-2aef97fc8436\",\"root_ids\":[\"1102\"],\"roots\":{\"1102\":\"3aa6fdb8-8a41-43df-9bb7-9b43233ef584\"}}];\n  root.Bokeh.embed.embed_items_notebook(docs_json, render_items);\n\n  }\n  if (root.Bokeh !== undefined) {\n    embed_document(root);\n  } else {\n    let attempts = 0;\n    const timer = setInterval(function(root) {\n      if (root.Bokeh !== undefined) {\n        clearInterval(timer);\n        embed_document(root);\n      } else {\n        attempts++;\n        if (attempts > 100) {\n          clearInterval(timer);\n          console.log(\"Bokeh: ERROR: Unable to run BokehJS code because BokehJS library is missing\");\n        }\n      }\n    }, 10, root)\n  }\n})(window);",
      "application/vnd.bokehjs_exec.v0+json": ""
     },
     "metadata": {
      "application/vnd.bokehjs_exec.v0+json": {
       "id": "1102"
      }
     },
     "output_type": "display_data"
    }
   ],
   "source": [
    "p = figure(title=\"IR spectra\", x_axis_label='x', y_axis_label='y')\n",
    "p.line(np.arange(irdata_array.shape[1]),irdata_array[0,:], line_width=2)\n",
    "show(p)"
   ]
  },
  {
   "cell_type": "code",
   "execution_count": 8,
   "id": "53056196-db6c-4735-885f-8ebedc849c82",
   "metadata": {},
   "outputs": [
    {
     "data": {
      "text/plain": [
       "8730"
      ]
     },
     "execution_count": 8,
     "metadata": {},
     "output_type": "execute_result"
    }
   ],
   "source": [
    "len(irindex[irindex['state']=='gas'].index)"
   ]
  }
 ],
 "metadata": {
  "interpreter": {
   "hash": "618548156d1a0d173e43c3d96150f1ec1b269d57c418bee1767bb317238277c6"
  },
  "kernelspec": {
   "display_name": "Python 3.9.7 64-bit ('jcamp': conda)",
   "name": "python3"
  },
  "language_info": {
   "codemirror_mode": {
    "name": "ipython",
    "version": 3
   },
   "file_extension": ".py",
   "mimetype": "text/x-python",
   "name": "python",
   "nbconvert_exporter": "python",
   "pygments_lexer": "ipython3",
   "version": "3.9.7"
  }
 },
 "nbformat": 4,
 "nbformat_minor": 5
}
